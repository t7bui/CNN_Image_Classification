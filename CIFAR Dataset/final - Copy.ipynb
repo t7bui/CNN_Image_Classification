{
 "cells": [
  {
   "cell_type": "code",
   "execution_count": 1,
   "metadata": {},
   "outputs": [
    {
     "name": "stderr",
     "output_type": "stream",
     "text": [
      "2023-03-03 12:01:21.474053: I tensorflow/core/platform/cpu_feature_guard.cc:193] This TensorFlow binary is optimized with oneAPI Deep Neural Network Library (oneDNN) to use the following CPU instructions in performance-critical operations:  AVX2 FMA\n",
      "To enable them in other operations, rebuild TensorFlow with the appropriate compiler flags.\n",
      "/Library/Frameworks/Python.framework/Versions/3.8/lib/python3.8/site-packages/tqdm/auto.py:22: TqdmWarning: IProgress not found. Please update jupyter and ipywidgets. See https://ipywidgets.readthedocs.io/en/stable/user_install.html\n",
      "  from .autonotebook import tqdm as notebook_tqdm\n"
     ]
    }
   ],
   "source": [
    "%matplotlib inline\n",
    "import matplotlib.pyplot as plt\n",
    "import numpy as np\n",
    "import tensorflow as tf\n",
    "\n",
    "import torch\n",
    "import torchvision\n",
    "import torchvision.transforms as transforms\n",
    "import torch.nn as nn\n",
    "import torch.nn.functional as F\n",
    "import torch.optim as optim"
   ]
  },
  {
   "attachments": {},
   "cell_type": "markdown",
   "metadata": {},
   "source": [
    "### Load and Understand Our Data"
   ]
  },
  {
   "cell_type": "code",
   "execution_count": 2,
   "metadata": {},
   "outputs": [],
   "source": [
    "EPOCHS = 50\n",
    "BATCH_SIZE = 32"
   ]
  },
  {
   "cell_type": "code",
   "execution_count": 3,
   "metadata": {},
   "outputs": [
    {
     "name": "stdout",
     "output_type": "stream",
     "text": [
      "Downloading data from https://www.cs.toronto.edu/~kriz/cifar-10-python.tar.gz\n",
      "170498071/170498071 [==============================] - 19s 0us/step\n"
     ]
    }
   ],
   "source": [
    "cifar10 = tf.keras.datasets.cifar10\n",
    "(x_train, y_train), (x_test, y_test) = cifar10.load_data()"
   ]
  },
  {
   "cell_type": "code",
   "execution_count": 4,
   "metadata": {},
   "outputs": [
    {
     "name": "stdout",
     "output_type": "stream",
     "text": [
      "X Train shape: (50000, 32, 32, 3)\n",
      "[59 62 63]\n",
      "Looks like we need to convert in between (0,1) by divide elements by 255 \n",
      "\n",
      "Y Train shape: (50000, 1)\n",
      "[0 1 2 3 4 5 6 7 8 9]\n",
      "Looks like we have 10 unique classes for our data\n"
     ]
    }
   ],
   "source": [
    "print(\"X Train shape:\", x_train.shape)\n",
    "print(x_train[0][0][0])\n",
    "print(\"Looks like we need to convert in between (0,1) by divide elements by 255 \\n\")\n",
    "print(\"Y Train shape:\", y_train.shape)\n",
    "print(np.unique(y_train))\n",
    "print(\"Looks like we have 10 unique classes for our data\")"
   ]
  },
  {
   "cell_type": "code",
   "execution_count": 5,
   "metadata": {},
   "outputs": [
    {
     "name": "stdout",
     "output_type": "stream",
     "text": [
      "x_train.shape: (50000, 32, 32, 3)\n",
      "y_train.shape (50000,)\n"
     ]
    }
   ],
   "source": [
    "# Convert RGB to decimal in between [0,1] => 255 = 1, 0 = 0\n",
    "x_train, x_test = x_train / 255.0, x_test / 255.0\n",
    "\n",
    "# Flatten our target dataset\n",
    "y_train, y_test = y_train.flatten(), y_test.flatten()\n",
    "print(\"x_train.shape:\", x_train.shape)\n",
    "print(\"y_train.shape\", y_train.shape)"
   ]
  },
  {
   "cell_type": "code",
   "execution_count": 6,
   "metadata": {},
   "outputs": [
    {
     "name": "stdout",
     "output_type": "stream",
     "text": [
      "Number of Classes: 10\n"
     ]
    }
   ],
   "source": [
    "# Get number of target classes\n",
    "k_class = len(np.unique(y_train))\n",
    "print(\"Number of Classes:\", k_class)"
   ]
  },
  {
   "attachments": {},
   "cell_type": "markdown",
   "metadata": {},
   "source": [
    "### Model"
   ]
  },
  {
   "cell_type": "code",
   "execution_count": 7,
   "metadata": {},
   "outputs": [],
   "source": [
    "from tensorflow.keras import layers,models,optimizers\n",
    "from tensorflow.keras.models import Model\n",
    "from keras.layers import Input, Conv2D, MaxPooling2D, Dropout, Flatten, Dense"
   ]
  },
  {
   "cell_type": "code",
   "execution_count": 8,
   "metadata": {},
   "outputs": [
    {
     "name": "stdout",
     "output_type": "stream",
     "text": [
      "Model: \"model\"\n",
      "__________________________________________________________________________________________________\n",
      " Layer (type)                   Output Shape         Param #     Connected to                     \n",
      "==================================================================================================\n",
      " input_1 (InputLayer)           [(None, 32, 32, 3)]  0           []                               \n",
      "                                                                                                  \n",
      " conv2d (Conv2D)                (None, 30, 30, 32)   896         ['input_1[0][0]']                \n",
      "                                                                                                  \n",
      " max_pooling2d (MaxPooling2D)   multiple             0           ['conv2d[0][0]',                 \n",
      "                                                                  'conv2d_1[0][0]',               \n",
      "                                                                  'conv2d_2[0][0]']               \n",
      "                                                                                                  \n",
      " conv2d_1 (Conv2D)              (None, 13, 13, 64)   18496       ['max_pooling2d[0][0]']          \n",
      "                                                                                                  \n",
      " conv2d_2 (Conv2D)              (None, 4, 4, 128)    73856       ['max_pooling2d[1][0]']          \n",
      "                                                                                                  \n",
      " flatten (Flatten)              (None, 512)          0           ['max_pooling2d[2][0]']          \n",
      "                                                                                                  \n",
      " dense (Dense)                  (None, 1024)         525312      ['flatten[0][0]']                \n",
      "                                                                                                  \n",
      " dense_1 (Dense)                (None, 10)           10250       ['dense[0][0]']                  \n",
      "                                                                                                  \n",
      "==================================================================================================\n",
      "Total params: 628,810\n",
      "Trainable params: 628,810\n",
      "Non-trainable params: 0\n",
      "__________________________________________________________________________________________________\n"
     ]
    },
    {
     "name": "stderr",
     "output_type": "stream",
     "text": [
      "2023-03-03 12:02:07.944903: I tensorflow/core/platform/cpu_feature_guard.cc:193] This TensorFlow binary is optimized with oneAPI Deep Neural Network Library (oneDNN) to use the following CPU instructions in performance-critical operations:  AVX2 FMA\n",
      "To enable them in other operations, rebuild TensorFlow with the appropriate compiler flags.\n"
     ]
    }
   ],
   "source": [
    "# Get input dimension\n",
    "input_dimension = x_train[0].shape\n",
    "\n",
    "# Input layer\n",
    "inputs = Input(shape=input_dimension)\n",
    "# Maxpooling layer\n",
    "maxpool = MaxPooling2D((2,2))\n",
    "\n",
    "# Convolution layers\n",
    "x = Conv2D(32, (3,3), activation='relu')(inputs)\n",
    "x = maxpool(x)\n",
    "# x = Conv2D(32, (3,3), activation='relu')(inputs)\n",
    "# x = maxpool(x)\n",
    "\n",
    "x = Conv2D(64, (3,3), activation='relu')(x)\n",
    "x = maxpool(x)\n",
    "# x = Conv2D(64, (3,3), activation='relu')(x)\n",
    "# x = maxpool(x)\n",
    "\n",
    "x = Conv2D(128, (3,3), activation='relu')(x)\n",
    "x = maxpool(x)\n",
    "\n",
    "# Fully connected layer\n",
    "x = Flatten()(x)\n",
    "x = Dense(1024, activation='relu')(x)\n",
    "x = Dense(k_class, activation='softmax')(x)\n",
    "\n",
    "model = Model(inputs, x)\n",
    "\n",
    "model.summary()"
   ]
  },
  {
   "cell_type": "code",
   "execution_count": 9,
   "metadata": {},
   "outputs": [],
   "source": [
    "model.compile(loss=\"sparse_categorical_crossentropy\", optimizer='SGD', metrics=['accuracy'])"
   ]
  },
  {
   "cell_type": "code",
   "execution_count": 10,
   "metadata": {},
   "outputs": [
    {
     "name": "stdout",
     "output_type": "stream",
     "text": [
      "Epoch 1/50\n",
      "1562/1562 [==============================] - 51s 32ms/step - loss: 1.6881 - accuracy: 0.3713 - val_loss: 1.4491 - val_accuracy: 0.4703\n",
      "Epoch 2/50\n",
      "1562/1562 [==============================] - 54s 35ms/step - loss: 1.3935 - accuracy: 0.4952 - val_loss: 1.3020 - val_accuracy: 0.5318\n",
      "Epoch 3/50\n",
      "1562/1562 [==============================] - 54s 34ms/step - loss: 1.2648 - accuracy: 0.5444 - val_loss: 1.2152 - val_accuracy: 0.5672\n",
      "Epoch 4/50\n",
      "1562/1562 [==============================] - 55s 35ms/step - loss: 1.1754 - accuracy: 0.5792 - val_loss: 1.0842 - val_accuracy: 0.6125\n",
      "Epoch 5/50\n",
      "1562/1562 [==============================] - 54s 35ms/step - loss: 1.1083 - accuracy: 0.6058 - val_loss: 1.0842 - val_accuracy: 0.6167\n",
      "Epoch 6/50\n",
      "1562/1562 [==============================] - 53s 34ms/step - loss: 1.0718 - accuracy: 0.6167 - val_loss: 1.0614 - val_accuracy: 0.6294\n",
      "Epoch 7/50\n",
      "1562/1562 [==============================] - 54s 35ms/step - loss: 1.0321 - accuracy: 0.6335 - val_loss: 1.0117 - val_accuracy: 0.6417\n",
      "Epoch 8/50\n",
      "1562/1562 [==============================] - 56s 36ms/step - loss: 0.9991 - accuracy: 0.6477 - val_loss: 0.9590 - val_accuracy: 0.6617\n",
      "Epoch 9/50\n",
      "1562/1562 [==============================] - 55s 35ms/step - loss: 0.9707 - accuracy: 0.6591 - val_loss: 0.9134 - val_accuracy: 0.6819\n",
      "Epoch 10/50\n",
      "1562/1562 [==============================] - 55s 35ms/step - loss: 0.9522 - accuracy: 0.6629 - val_loss: 0.9668 - val_accuracy: 0.6684\n",
      "Epoch 11/50\n",
      "1562/1562 [==============================] - 55s 35ms/step - loss: 0.9266 - accuracy: 0.6726 - val_loss: 0.9109 - val_accuracy: 0.6803\n",
      "Epoch 12/50\n",
      "1562/1562 [==============================] - 54s 35ms/step - loss: 0.9106 - accuracy: 0.6784 - val_loss: 0.8787 - val_accuracy: 0.6954\n",
      "Epoch 13/50\n",
      "1562/1562 [==============================] - 55s 35ms/step - loss: 0.8913 - accuracy: 0.6851 - val_loss: 0.9444 - val_accuracy: 0.6760\n",
      "Epoch 14/50\n",
      "1562/1562 [==============================] - 55s 35ms/step - loss: 0.8859 - accuracy: 0.6883 - val_loss: 0.8758 - val_accuracy: 0.6960\n",
      "Epoch 15/50\n",
      "1562/1562 [==============================] - 55s 35ms/step - loss: 0.8686 - accuracy: 0.6973 - val_loss: 0.8495 - val_accuracy: 0.7069\n",
      "Epoch 16/50\n",
      "1562/1562 [==============================] - 55s 35ms/step - loss: 0.8483 - accuracy: 0.7001 - val_loss: 0.8702 - val_accuracy: 0.6993\n",
      "Epoch 17/50\n",
      "1562/1562 [==============================] - 55s 35ms/step - loss: 0.8436 - accuracy: 0.7030 - val_loss: 0.8476 - val_accuracy: 0.6994\n",
      "Epoch 18/50\n",
      "1562/1562 [==============================] - 56s 36ms/step - loss: 0.8274 - accuracy: 0.7081 - val_loss: 0.9179 - val_accuracy: 0.6883\n",
      "Epoch 19/50\n",
      "1562/1562 [==============================] - 56s 36ms/step - loss: 0.8241 - accuracy: 0.7108 - val_loss: 0.8904 - val_accuracy: 0.6916\n",
      "Epoch 20/50\n",
      "1562/1562 [==============================] - 56s 36ms/step - loss: 0.8102 - accuracy: 0.7150 - val_loss: 0.9015 - val_accuracy: 0.6951\n",
      "Epoch 21/50\n",
      "1562/1562 [==============================] - 56s 36ms/step - loss: 0.8063 - accuracy: 0.7193 - val_loss: 0.8385 - val_accuracy: 0.7130\n",
      "Epoch 22/50\n",
      "1562/1562 [==============================] - 56s 36ms/step - loss: 0.7987 - accuracy: 0.7187 - val_loss: 0.8561 - val_accuracy: 0.7087\n",
      "Epoch 23/50\n",
      "1562/1562 [==============================] - 55s 35ms/step - loss: 0.7911 - accuracy: 0.7228 - val_loss: 0.8865 - val_accuracy: 0.6975\n",
      "Epoch 24/50\n",
      "1562/1562 [==============================] - 55s 35ms/step - loss: 0.7825 - accuracy: 0.7261 - val_loss: 0.8567 - val_accuracy: 0.7059\n",
      "Epoch 25/50\n",
      "1562/1562 [==============================] - 56s 36ms/step - loss: 0.7787 - accuracy: 0.7282 - val_loss: 0.7960 - val_accuracy: 0.7258\n",
      "Epoch 26/50\n",
      "1562/1562 [==============================] - 56s 36ms/step - loss: 0.7680 - accuracy: 0.7290 - val_loss: 0.8997 - val_accuracy: 0.7009\n",
      "Epoch 27/50\n",
      "1562/1562 [==============================] - 56s 36ms/step - loss: 0.7701 - accuracy: 0.7310 - val_loss: 0.8137 - val_accuracy: 0.7257\n",
      "Epoch 28/50\n",
      "1562/1562 [==============================] - 56s 36ms/step - loss: 0.7607 - accuracy: 0.7329 - val_loss: 0.8074 - val_accuracy: 0.7261\n",
      "Epoch 29/50\n",
      "1562/1562 [==============================] - 56s 36ms/step - loss: 0.7562 - accuracy: 0.7340 - val_loss: 0.8475 - val_accuracy: 0.7111\n",
      "Epoch 30/50\n",
      "1562/1562 [==============================] - 55s 35ms/step - loss: 0.7497 - accuracy: 0.7366 - val_loss: 0.8035 - val_accuracy: 0.7218\n",
      "Epoch 31/50\n",
      "1562/1562 [==============================] - 53s 34ms/step - loss: 0.7482 - accuracy: 0.7388 - val_loss: 0.7528 - val_accuracy: 0.7385\n",
      "Epoch 32/50\n",
      "1562/1562 [==============================] - 54s 35ms/step - loss: 0.7454 - accuracy: 0.7398 - val_loss: 0.7937 - val_accuracy: 0.7265\n",
      "Epoch 33/50\n",
      "1562/1562 [==============================] - 55s 35ms/step - loss: 0.7355 - accuracy: 0.7419 - val_loss: 0.7948 - val_accuracy: 0.7299\n",
      "Epoch 34/50\n",
      "1562/1562 [==============================] - 55s 35ms/step - loss: 0.7282 - accuracy: 0.7443 - val_loss: 0.7998 - val_accuracy: 0.7323\n",
      "Epoch 35/50\n",
      "1562/1562 [==============================] - 56s 36ms/step - loss: 0.7266 - accuracy: 0.7463 - val_loss: 0.7733 - val_accuracy: 0.7320\n",
      "Epoch 36/50\n",
      "1562/1562 [==============================] - 55s 35ms/step - loss: 0.7279 - accuracy: 0.7454 - val_loss: 0.8383 - val_accuracy: 0.7130\n",
      "Epoch 37/50\n",
      "1562/1562 [==============================] - 55s 35ms/step - loss: 0.7136 - accuracy: 0.7468 - val_loss: 0.7961 - val_accuracy: 0.7306\n",
      "Epoch 38/50\n",
      "1562/1562 [==============================] - 55s 35ms/step - loss: 0.7236 - accuracy: 0.7460 - val_loss: 0.7806 - val_accuracy: 0.7393\n",
      "Epoch 39/50\n",
      "1562/1562 [==============================] - 55s 35ms/step - loss: 0.7157 - accuracy: 0.7481 - val_loss: 0.8168 - val_accuracy: 0.7267\n",
      "Epoch 40/50\n",
      "1562/1562 [==============================] - 55s 35ms/step - loss: 0.7180 - accuracy: 0.7496 - val_loss: 0.7804 - val_accuracy: 0.7353\n",
      "Epoch 41/50\n",
      "1562/1562 [==============================] - 55s 35ms/step - loss: 0.7082 - accuracy: 0.7503 - val_loss: 0.7894 - val_accuracy: 0.7316\n",
      "Epoch 42/50\n",
      "1562/1562 [==============================] - 56s 36ms/step - loss: 0.7040 - accuracy: 0.7526 - val_loss: 0.7896 - val_accuracy: 0.7342\n",
      "Epoch 43/50\n",
      "1562/1562 [==============================] - 55s 35ms/step - loss: 0.7028 - accuracy: 0.7538 - val_loss: 0.7847 - val_accuracy: 0.7291\n",
      "Epoch 44/50\n",
      "1562/1562 [==============================] - 55s 35ms/step - loss: 0.7005 - accuracy: 0.7535 - val_loss: 0.7742 - val_accuracy: 0.7385\n",
      "Epoch 45/50\n",
      "1562/1562 [==============================] - 55s 35ms/step - loss: 0.6972 - accuracy: 0.7536 - val_loss: 0.7584 - val_accuracy: 0.7476\n",
      "Epoch 46/50\n",
      "1562/1562 [==============================] - 55s 35ms/step - loss: 0.6923 - accuracy: 0.7570 - val_loss: 0.7997 - val_accuracy: 0.7356\n",
      "Epoch 47/50\n",
      "1562/1562 [==============================] - 55s 35ms/step - loss: 0.6973 - accuracy: 0.7555 - val_loss: 0.7985 - val_accuracy: 0.7364\n",
      "Epoch 48/50\n",
      "1562/1562 [==============================] - 56s 36ms/step - loss: 0.6852 - accuracy: 0.7608 - val_loss: 0.7660 - val_accuracy: 0.7378\n",
      "Epoch 49/50\n",
      "1562/1562 [==============================] - 56s 36ms/step - loss: 0.6842 - accuracy: 0.7599 - val_loss: 0.7851 - val_accuracy: 0.7447\n",
      "Epoch 50/50\n",
      "1562/1562 [==============================] - 56s 36ms/step - loss: 0.6845 - accuracy: 0.7609 - val_loss: 0.8105 - val_accuracy: 0.7304\n"
     ]
    }
   ],
   "source": [
    "from tensorflow.keras.preprocessing.image import ImageDataGenerator\n",
    "\n",
    "data_generator = ImageDataGenerator(horizontal_flip=True,\n",
    "                                    vertical_flip=True,\n",
    "                                    width_shift_range=0.1, \n",
    "                                    height_shift_range=0.1)\n",
    "\n",
    "train_generator = data_generator.flow(x_train, y_train, BATCH_SIZE)\n",
    "\n",
    "steps_per_epoch = x_train.shape[0] // BATCH_SIZE\n",
    "\n",
    "fitted_model = model.fit(train_generator, \n",
    "                         validation_data=(x_test, y_test), \n",
    "                         steps_per_epoch=steps_per_epoch, \n",
    "                         epochs=EPOCHS)"
   ]
  },
  {
   "cell_type": "code",
   "execution_count": 11,
   "metadata": {},
   "outputs": [],
   "source": [
    "def plot_acc_and_loss(acc, val_acc, loss, val_loss, epochs_range, condition):\n",
    "    plt.figure(figsize=(8, 8))\n",
    "    plt.subplot(1, 2, 1)\n",
    "    plt.plot(epochs_range, acc, label='Training Accuracy')\n",
    "    plt.plot(epochs_range, val_acc, label='Validation Accuracy')\n",
    "    plt.legend(loc='lower right')\n",
    "    plt.title('Training and Validation Accuracy')\n",
    "\n",
    "    plt.subplot(1, 2, 2)\n",
    "    plt.plot(epochs_range, loss, label='Training Loss')\n",
    "    plt.plot(epochs_range, val_loss, label='Validation Loss')\n",
    "    plt.legend(loc='upper right')\n",
    "    plt.title('Training and Validation Loss')\n",
    "    plt.suptitle(\"Model: Sparse Categorical Entropy Loss, Adam optimizer, 3 Layers\")\n",
    "    plt.savefig('./{}.png' .format(condition))\n",
    "    plt.show()"
   ]
  },
  {
   "cell_type": "code",
   "execution_count": 14,
   "metadata": {},
   "outputs": [],
   "source": [
    "def get_history(fitted_model):\n",
    "    acc = fitted_model.history['accuracy']\n",
    "    avg_acc = np.mean(acc)\n",
    "    val_acc = fitted_model.history['val_accuracy']\n",
    "    avg_valAcc = np.mean(val_acc)\n",
    "\n",
    "    loss = fitted_model.history['loss']\n",
    "    val_loss = fitted_model.history['val_loss']\n",
    "\n",
    "    print(\"Average Training accuracy: {:.2f}%\".format(avg_acc*100))\n",
    "    print(\"Average Validation accuracy: {:.2f}%\".format(avg_valAcc*100))\n",
    "\n",
    "    return acc, val_acc, loss, val_loss\n"
   ]
  },
  {
   "cell_type": "code",
   "execution_count": 17,
   "metadata": {},
   "outputs": [
    {
     "name": "stdout",
     "output_type": "stream",
     "text": [
      "Average Training accuracy: 70.12%\n",
      "Average Validation accuracy: 69.63%\n"
     ]
    },
    {
     "data": {
      "image/png": "[encoded data removed]",
      "text/plain": [
       "<Figure size 576x576 with 2 Axes>"
      ]
     },
     "metadata": {
      "needs_background": "light"
     },
     "output_type": "display_data"
    }
   ],
   "source": [
    "epochs_range = range(EPOCHS)\n",
    "acc, val_acc, loss, val_loss = get_history(fitted_model)\n",
    "\n",
    "plot_acc_and_loss(acc, val_acc, loss, val_loss, epochs_range, \"Image Augmentation, 50 epochs, SGD\")"
   ]
  },
  {
   "cell_type": "code",
   "execution_count": 21,
   "metadata": {},
   "outputs": [],
   "source": [
    "model.save_weights(\"model_sgd.h5\")"
   ]
  }
 ],
 "metadata": {
  "kernelspec": {
   "display_name": "Python 3",
   "language": "python",
   "name": "python3"
  },
  "language_info": {
   "codemirror_mode": {
    "name": "ipython",
    "version": 3
   },
   "file_extension": ".py",
   "mimetype": "text/x-python",
   "name": "python",
   "nbconvert_exporter": "python",
   "pygments_lexer": "ipython3",
   "version": "3.8.6rc1"
  },
  "orig_nbformat": 4,
  "vscode": {
   "interpreter": {
    "hash": "aee8b7b246df8f9039afb4144a1f6fd8d2ca17a180786b69acc140d282b71a49"
   }
  }
 },
 "nbformat": 4,
 "nbformat_minor": 2
}
