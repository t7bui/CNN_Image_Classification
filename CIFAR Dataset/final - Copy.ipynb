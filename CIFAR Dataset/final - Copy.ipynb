{
 "cells": [
  {
   "cell_type": "code",
   "execution_count": 1,
   "metadata": {},
   "outputs": [
    {
     "name": "stderr",
     "output_type": "stream",
     "text": [
      "2023-03-03 13:35:47.584944: I tensorflow/core/platform/cpu_feature_guard.cc:193] This TensorFlow binary is optimized with oneAPI Deep Neural Network Library (oneDNN) to use the following CPU instructions in performance-critical operations:  AVX2 FMA\n",
      "To enable them in other operations, rebuild TensorFlow with the appropriate compiler flags.\n",
      "/Library/Frameworks/Python.framework/Versions/3.8/lib/python3.8/site-packages/tqdm/auto.py:22: TqdmWarning: IProgress not found. Please update jupyter and ipywidgets. See https://ipywidgets.readthedocs.io/en/stable/user_install.html\n",
      "  from .autonotebook import tqdm as notebook_tqdm\n"
     ]
    }
   ],
   "source": [
    "%matplotlib inline\n",
    "import matplotlib.pyplot as plt\n",
    "import numpy as np\n",
    "import tensorflow as tf\n",
    "\n",
    "import torch\n",
    "import torchvision\n",
    "import torchvision.transforms as transforms\n",
    "import torch.nn as nn\n",
    "import torch.nn.functional as F\n",
    "import torch.optim as optim"
   ]
  },
  {
   "attachments": {},
   "cell_type": "markdown",
   "metadata": {},
   "source": [
    "### Load and Understand Our Data"
   ]
  },
  {
   "cell_type": "code",
   "execution_count": 2,
   "metadata": {},
   "outputs": [],
   "source": [
    "EPOCHS = 50\n",
    "BATCH_SIZE = 32"
   ]
  },
  {
   "cell_type": "code",
   "execution_count": 3,
   "metadata": {},
   "outputs": [],
   "source": [
    "cifar10 = tf.keras.datasets.cifar10\n",
    "(x_train, y_train), (x_test, y_test) = cifar10.load_data()"
   ]
  },
  {
   "cell_type": "code",
   "execution_count": 4,
   "metadata": {},
   "outputs": [
    {
     "name": "stdout",
     "output_type": "stream",
     "text": [
      "X Train shape: (50000, 32, 32, 3)\n",
      "[59 62 63]\n",
      "Looks like we need to convert in between (0,1) by divide elements by 255 \n",
      "\n",
      "Y Train shape: (50000, 1)\n",
      "[0 1 2 3 4 5 6 7 8 9]\n",
      "Looks like we have 10 unique classes for our data\n"
     ]
    }
   ],
   "source": [
    "print(\"X Train shape:\", x_train.shape)\n",
    "print(x_train[0][0][0])\n",
    "print(\"Looks like we need to convert in between (0,1) by divide elements by 255 \\n\")\n",
    "print(\"Y Train shape:\", y_train.shape)\n",
    "print(np.unique(y_train))\n",
    "print(\"Looks like we have 10 unique classes for our data\")"
   ]
  },
  {
   "cell_type": "code",
   "execution_count": 5,
   "metadata": {},
   "outputs": [
    {
     "name": "stdout",
     "output_type": "stream",
     "text": [
      "x_train.shape: (50000, 32, 32, 3)\n",
      "y_train.shape (50000,)\n"
     ]
    }
   ],
   "source": [
    "# Convert RGB to decimal in between [0,1] => 255 = 1, 0 = 0\n",
    "x_train, x_test = x_train / 255.0, x_test / 255.0\n",
    "\n",
    "# Flatten our target dataset\n",
    "y_train, y_test = y_train.flatten(), y_test.flatten()\n",
    "print(\"x_train.shape:\", x_train.shape)\n",
    "print(\"y_train.shape\", y_train.shape)"
   ]
  },
  {
   "cell_type": "code",
   "execution_count": 6,
   "metadata": {},
   "outputs": [
    {
     "name": "stdout",
     "output_type": "stream",
     "text": [
      "Number of Classes: 10\n"
     ]
    }
   ],
   "source": [
    "# Get number of target classes\n",
    "k_class = len(np.unique(y_train))\n",
    "print(\"Number of Classes:\", k_class)"
   ]
  },
  {
   "attachments": {},
   "cell_type": "markdown",
   "metadata": {},
   "source": [
    "### Model"
   ]
  },
  {
   "cell_type": "code",
   "execution_count": 7,
   "metadata": {},
   "outputs": [],
   "source": [
    "from tensorflow.keras import layers,models,optimizers\n",
    "from tensorflow.keras.models import Model\n",
    "from keras.layers import Input, Conv2D, MaxPooling2D, Dropout, Flatten, Dense"
   ]
  },
  {
   "cell_type": "code",
   "execution_count": 8,
   "metadata": {},
   "outputs": [
    {
     "name": "stdout",
     "output_type": "stream",
     "text": [
      "Model: \"model\"\n",
      "__________________________________________________________________________________________________\n",
      " Layer (type)                   Output Shape         Param #     Connected to                     \n",
      "==================================================================================================\n",
      " input_1 (InputLayer)           [(None, 32, 32, 3)]  0           []                               \n",
      "                                                                                                  \n",
      " conv2d (Conv2D)                (None, 30, 30, 32)   896         ['input_1[0][0]']                \n",
      "                                                                                                  \n",
      " max_pooling2d (MaxPooling2D)   multiple             0           ['conv2d[0][0]',                 \n",
      "                                                                  'conv2d_1[0][0]',               \n",
      "                                                                  'conv2d_2[0][0]']               \n",
      "                                                                                                  \n",
      " conv2d_1 (Conv2D)              (None, 13, 13, 64)   18496       ['max_pooling2d[0][0]']          \n",
      "                                                                                                  \n",
      " conv2d_2 (Conv2D)              (None, 4, 4, 128)    73856       ['max_pooling2d[1][0]']          \n",
      "                                                                                                  \n",
      " flatten (Flatten)              (None, 512)          0           ['max_pooling2d[2][0]']          \n",
      "                                                                                                  \n",
      " dense (Dense)                  (None, 1024)         525312      ['flatten[0][0]']                \n",
      "                                                                                                  \n",
      " dense_1 (Dense)                (None, 10)           10250       ['dense[0][0]']                  \n",
      "                                                                                                  \n",
      "==================================================================================================\n",
      "Total params: 628,810\n",
      "Trainable params: 628,810\n",
      "Non-trainable params: 0\n",
      "__________________________________________________________________________________________________\n"
     ]
    },
    {
     "name": "stderr",
     "output_type": "stream",
     "text": [
      "2023-03-03 13:35:56.704384: I tensorflow/core/platform/cpu_feature_guard.cc:193] This TensorFlow binary is optimized with oneAPI Deep Neural Network Library (oneDNN) to use the following CPU instructions in performance-critical operations:  AVX2 FMA\n",
      "To enable them in other operations, rebuild TensorFlow with the appropriate compiler flags.\n"
     ]
    }
   ],
   "source": [
    "# Get input dimension\n",
    "input_dimension = x_train[0].shape\n",
    "\n",
    "# Input layer\n",
    "inputs = Input(shape=input_dimension)\n",
    "# Maxpooling layer\n",
    "maxpool = MaxPooling2D((2,2))\n",
    "\n",
    "# Convolution layers\n",
    "x = Conv2D(32, (3,3), activation='relu')(inputs)\n",
    "x = maxpool(x)\n",
    "# x = Conv2D(32, (3,3), activation='relu')(inputs)\n",
    "# x = maxpool(x)\n",
    "\n",
    "x = Conv2D(64, (3,3), activation='relu')(x)\n",
    "x = maxpool(x)\n",
    "# x = Conv2D(64, (3,3), activation='relu')(x)\n",
    "# x = maxpool(x)\n",
    "\n",
    "x = Conv2D(128, (3,3), activation='relu')(x)\n",
    "x = maxpool(x)\n",
    "\n",
    "# Fully connected layer\n",
    "x = Flatten()(x)\n",
    "x = Dense(1024, activation='relu')(x)\n",
    "x = Dense(k_class, activation='softmax')(x)\n",
    "\n",
    "model = Model(inputs, x)\n",
    "\n",
    "model.summary()"
   ]
  },
  {
   "cell_type": "code",
   "execution_count": 9,
   "metadata": {},
   "outputs": [],
   "source": [
    "model.compile(loss=\"sparse_categorical_crossentropy\", optimizer='adam', metrics=['accuracy'])"
   ]
  },
  {
   "cell_type": "code",
   "execution_count": 10,
   "metadata": {},
   "outputs": [
    {
     "name": "stdout",
     "output_type": "stream",
     "text": [
      "Epoch 1/50\n",
      "1562/1562 [==============================] - 50s 32ms/step - loss: 2.1497 - accuracy: 0.1978 - val_loss: 1.9822 - val_accuracy: 0.2727\n",
      "Epoch 2/50\n",
      "1562/1562 [==============================] - 46s 30ms/step - loss: 1.9017 - accuracy: 0.3035 - val_loss: 1.8396 - val_accuracy: 0.3333\n",
      "Epoch 3/50\n",
      "1562/1562 [==============================] - 46s 30ms/step - loss: 1.7207 - accuracy: 0.3751 - val_loss: 1.6331 - val_accuracy: 0.4135\n",
      "Epoch 4/50\n",
      "1562/1562 [==============================] - 52s 33ms/step - loss: 1.6263 - accuracy: 0.4097 - val_loss: 1.5606 - val_accuracy: 0.4393\n",
      "Epoch 5/50\n",
      "1562/1562 [==============================] - 51s 32ms/step - loss: 1.5637 - accuracy: 0.4350 - val_loss: 1.5197 - val_accuracy: 0.4520\n",
      "Epoch 6/50\n",
      "1562/1562 [==============================] - 51s 33ms/step - loss: 1.5069 - accuracy: 0.4585 - val_loss: 1.4158 - val_accuracy: 0.4897\n",
      "Epoch 7/50\n",
      "1562/1562 [==============================] - 51s 33ms/step - loss: 1.4566 - accuracy: 0.4787 - val_loss: 1.3563 - val_accuracy: 0.5122\n",
      "Epoch 8/50\n",
      "1562/1562 [==============================] - 51s 33ms/step - loss: 1.4117 - accuracy: 0.4947 - val_loss: 1.3274 - val_accuracy: 0.5273\n",
      "Epoch 9/50\n",
      "1562/1562 [==============================] - 50s 32ms/step - loss: 1.3720 - accuracy: 0.5108 - val_loss: 1.2757 - val_accuracy: 0.5416\n",
      "Epoch 10/50\n",
      "1562/1562 [==============================] - 51s 33ms/step - loss: 1.3305 - accuracy: 0.5272 - val_loss: 1.2683 - val_accuracy: 0.5482\n",
      "Epoch 11/50\n",
      "1562/1562 [==============================] - 52s 33ms/step - loss: 1.2994 - accuracy: 0.5382 - val_loss: 1.3116 - val_accuracy: 0.5471\n",
      "Epoch 12/50\n",
      "1562/1562 [==============================] - 51s 33ms/step - loss: 1.2662 - accuracy: 0.5488 - val_loss: 1.1874 - val_accuracy: 0.5814\n",
      "Epoch 13/50\n",
      "1562/1562 [==============================] - 51s 33ms/step - loss: 1.2414 - accuracy: 0.5597 - val_loss: 1.1647 - val_accuracy: 0.5871\n",
      "Epoch 14/50\n",
      "1562/1562 [==============================] - 48s 31ms/step - loss: 1.2172 - accuracy: 0.5688 - val_loss: 1.1546 - val_accuracy: 0.5944\n",
      "Epoch 15/50\n",
      "1562/1562 [==============================] - 51s 33ms/step - loss: 1.1916 - accuracy: 0.5773 - val_loss: 1.1007 - val_accuracy: 0.6094\n",
      "Epoch 16/50\n",
      "1562/1562 [==============================] - 52s 33ms/step - loss: 1.1672 - accuracy: 0.5870 - val_loss: 1.0935 - val_accuracy: 0.6142\n",
      "Epoch 17/50\n",
      "1562/1562 [==============================] - 51s 32ms/step - loss: 1.1517 - accuracy: 0.5927 - val_loss: 1.1694 - val_accuracy: 0.5916\n",
      "Epoch 18/50\n",
      "1562/1562 [==============================] - 49s 31ms/step - loss: 1.1303 - accuracy: 0.6002 - val_loss: 1.0967 - val_accuracy: 0.6147\n",
      "Epoch 19/50\n",
      "1562/1562 [==============================] - 52s 33ms/step - loss: 1.1099 - accuracy: 0.6080 - val_loss: 1.0569 - val_accuracy: 0.6286\n",
      "Epoch 20/50\n",
      "1562/1562 [==============================] - 52s 33ms/step - loss: 1.0955 - accuracy: 0.6159 - val_loss: 1.0097 - val_accuracy: 0.6493\n",
      "Epoch 21/50\n",
      "1562/1562 [==============================] - 52s 33ms/step - loss: 1.0737 - accuracy: 0.6218 - val_loss: 1.0468 - val_accuracy: 0.6318\n",
      "Epoch 22/50\n",
      "1562/1562 [==============================] - 52s 33ms/step - loss: 1.0604 - accuracy: 0.6275 - val_loss: 1.0321 - val_accuracy: 0.6441\n",
      "Epoch 23/50\n",
      "1562/1562 [==============================] - 52s 33ms/step - loss: 1.0421 - accuracy: 0.6320 - val_loss: 1.0079 - val_accuracy: 0.6501\n",
      "Epoch 24/50\n",
      "1562/1562 [==============================] - 52s 33ms/step - loss: 1.0240 - accuracy: 0.6406 - val_loss: 0.9918 - val_accuracy: 0.6544\n",
      "Epoch 25/50\n",
      "1562/1562 [==============================] - 50s 32ms/step - loss: 1.0101 - accuracy: 0.6458 - val_loss: 0.9938 - val_accuracy: 0.6534\n",
      "Epoch 26/50\n",
      "1562/1562 [==============================] - 52s 33ms/step - loss: 0.9943 - accuracy: 0.6484 - val_loss: 1.0140 - val_accuracy: 0.6437\n",
      "Epoch 27/50\n",
      "1562/1562 [==============================] - 52s 33ms/step - loss: 0.9858 - accuracy: 0.6531 - val_loss: 0.9749 - val_accuracy: 0.6592\n",
      "Epoch 28/50\n",
      "1562/1562 [==============================] - 52s 33ms/step - loss: 0.9711 - accuracy: 0.6593 - val_loss: 0.9693 - val_accuracy: 0.6639\n",
      "Epoch 29/50\n",
      "1562/1562 [==============================] - 52s 33ms/step - loss: 0.9572 - accuracy: 0.6633 - val_loss: 1.0276 - val_accuracy: 0.6413\n",
      "Epoch 30/50\n",
      "1562/1562 [==============================] - 52s 33ms/step - loss: 0.9494 - accuracy: 0.6670 - val_loss: 0.9637 - val_accuracy: 0.6656\n",
      "Epoch 31/50\n",
      "1562/1562 [==============================] - 52s 33ms/step - loss: 0.9347 - accuracy: 0.6703 - val_loss: 0.9408 - val_accuracy: 0.6689\n",
      "Epoch 32/50\n",
      "1562/1562 [==============================] - 52s 33ms/step - loss: 0.9292 - accuracy: 0.6736 - val_loss: 0.8936 - val_accuracy: 0.6872\n",
      "Epoch 33/50\n",
      "1562/1562 [==============================] - 53s 34ms/step - loss: 0.9089 - accuracy: 0.6810 - val_loss: 0.9036 - val_accuracy: 0.6866\n",
      "Epoch 34/50\n",
      "1562/1562 [==============================] - 50s 32ms/step - loss: 0.9078 - accuracy: 0.6817 - val_loss: 0.9014 - val_accuracy: 0.6926\n",
      "Epoch 35/50\n",
      "1562/1562 [==============================] - 52s 33ms/step - loss: 0.8900 - accuracy: 0.6876 - val_loss: 0.9036 - val_accuracy: 0.6887\n",
      "Epoch 36/50\n",
      "1562/1562 [==============================] - 52s 33ms/step - loss: 0.8852 - accuracy: 0.6884 - val_loss: 0.8748 - val_accuracy: 0.6972\n",
      "Epoch 37/50\n",
      "1562/1562 [==============================] - 51s 33ms/step - loss: 0.8741 - accuracy: 0.6918 - val_loss: 0.8535 - val_accuracy: 0.7020\n",
      "Epoch 38/50\n",
      "1562/1562 [==============================] - 52s 33ms/step - loss: 0.8699 - accuracy: 0.6948 - val_loss: 0.9015 - val_accuracy: 0.6847\n",
      "Epoch 39/50\n",
      "1562/1562 [==============================] - 53s 34ms/step - loss: 0.8590 - accuracy: 0.6999 - val_loss: 0.8481 - val_accuracy: 0.7046\n",
      "Epoch 40/50\n",
      "1562/1562 [==============================] - 54s 35ms/step - loss: 0.8496 - accuracy: 0.7000 - val_loss: 0.8687 - val_accuracy: 0.6983\n",
      "Epoch 41/50\n",
      "1562/1562 [==============================] - 52s 33ms/step - loss: 0.8472 - accuracy: 0.7051 - val_loss: 0.8535 - val_accuracy: 0.7071\n",
      "Epoch 42/50\n",
      "1562/1562 [==============================] - 52s 33ms/step - loss: 0.8323 - accuracy: 0.7065 - val_loss: 0.8599 - val_accuracy: 0.7059\n",
      "Epoch 43/50\n",
      "1562/1562 [==============================] - 52s 33ms/step - loss: 0.8336 - accuracy: 0.7061 - val_loss: 0.8315 - val_accuracy: 0.7108\n",
      "Epoch 44/50\n",
      "1562/1562 [==============================] - 52s 33ms/step - loss: 0.8230 - accuracy: 0.7095 - val_loss: 0.8176 - val_accuracy: 0.7155\n",
      "Epoch 45/50\n",
      "1562/1562 [==============================] - 52s 33ms/step - loss: 0.8144 - accuracy: 0.7137 - val_loss: 0.8626 - val_accuracy: 0.7040\n",
      "Epoch 46/50\n",
      "1562/1562 [==============================] - 52s 33ms/step - loss: 0.8073 - accuracy: 0.7157 - val_loss: 0.8405 - val_accuracy: 0.7097\n",
      "Epoch 47/50\n",
      "1562/1562 [==============================] - 52s 33ms/step - loss: 0.8008 - accuracy: 0.7201 - val_loss: 0.8066 - val_accuracy: 0.7186\n",
      "Epoch 48/50\n",
      "1562/1562 [==============================] - 56s 36ms/step - loss: 0.7942 - accuracy: 0.7213 - val_loss: 0.8209 - val_accuracy: 0.7176\n",
      "Epoch 49/50\n",
      "1562/1562 [==============================] - 56s 36ms/step - loss: 0.7855 - accuracy: 0.7224 - val_loss: 0.8525 - val_accuracy: 0.7081\n",
      "Epoch 50/50\n",
      "1562/1562 [==============================] - 53s 34ms/step - loss: 0.7776 - accuracy: 0.7275 - val_loss: 0.7981 - val_accuracy: 0.7224\n"
     ]
    }
   ],
   "source": [
    "from tensorflow.keras.preprocessing.image import ImageDataGenerator\n",
    "\n",
    "data_generator = ImageDataGenerator(horizontal_flip=True,\n",
    "                                    vertical_flip=True,\n",
    "                                    width_shift_range=0.1,\n",
    "                                    height_shift_range=0.1)\n",
    "\n",
    "train_generator = data_generator.flow(x_train, y_train, BATCH_SIZE)\n",
    "\n",
    "steps_per_epoch = x_train.shape[0] // BATCH_SIZE\n",
    "\n",
    "fitted_model = model.fit(train_generator, \n",
    "                         validation_data=(x_test, y_test), \n",
    "                         steps_per_epoch=steps_per_epoch, \n",
    "                         epochs=EPOCHS)"
   ]
  },
  {
   "cell_type": "code",
   "execution_count": 11,
   "metadata": {},
   "outputs": [],
   "source": [
    "def plot_acc_and_loss(acc, val_acc, loss, val_loss, epochs_range, condition):\n",
    "    plt.figure(figsize=(8, 8))\n",
    "    plt.subplot(1, 2, 1)\n",
    "    plt.plot(epochs_range, acc, label='Training Accuracy')\n",
    "    plt.plot(epochs_range, val_acc, label='Validation Accuracy')\n",
    "    plt.legend(loc='lower right')\n",
    "    plt.title('Training and Validation Accuracy')\n",
    "\n",
    "    plt.subplot(1, 2, 2)\n",
    "    plt.plot(epochs_range, loss, label='Training Loss')\n",
    "    plt.plot(epochs_range, val_loss, label='Validation Loss')\n",
    "    plt.legend(loc='upper right')\n",
    "    plt.title('Training and Validation Loss')\n",
    "    plt.suptitle(\"Model: Sparse Categorical Entropy Loss, Adam optimizer, 3 Layers\")\n",
    "    plt.savefig('./{}.png' .format(condition))\n",
    "    plt.show()"
   ]
  },
  {
   "cell_type": "code",
   "execution_count": 12,
   "metadata": {},
   "outputs": [],
   "source": [
    "def get_history(fitted_model):\n",
    "    acc = fitted_model.history['accuracy']\n",
    "    avg_acc = np.mean(acc)\n",
    "    val_acc = fitted_model.history['val_accuracy']\n",
    "    avg_valAcc = np.mean(val_acc)\n",
    "\n",
    "    loss = fitted_model.history['loss']\n",
    "    val_loss = fitted_model.history['val_loss']\n",
    "\n",
    "    print(\"Average Training accuracy: {:.2f}%\".format(avg_acc*100))\n",
    "    print(\"Average Validation accuracy: {:.2f}%\".format(avg_valAcc*100))\n",
    "\n",
    "    return acc, val_acc, loss, val_loss\n"
   ]
  },
  {
   "cell_type": "code",
   "execution_count": 13,
   "metadata": {},
   "outputs": [
    {
     "name": "stdout",
     "output_type": "stream",
     "text": [
      "Average Training accuracy: 60.93%\n",
      "Average Validation accuracy: 62.17%\n"
     ]
    },
    {
     "data": {
      "image/png": "[encoded data removed]",
      "text/plain": [
       "<Figure size 576x576 with 2 Axes>"
      ]
     },
     "metadata": {
      "needs_background": "light"
     },
     "output_type": "display_data"
    }
   ],
   "source": [
    "epochs_range = range(EPOCHS)\n",
    "acc, val_acc, loss, val_loss = get_history(fitted_model)\n",
    "\n",
    "plot_acc_and_loss(acc, val_acc, loss, val_loss, epochs_range, \"Image Augmentation, 50 epochs, Adam, Callbacks\")"
   ]
  },
  {
   "cell_type": "code",
   "execution_count": 14,
   "metadata": {},
   "outputs": [],
   "source": [
    "model.save_weights(\"model_callbacks.h5\")"
   ]
  }
 ],
 "metadata": {
  "kernelspec": {
   "display_name": "Python 3",
   "language": "python",
   "name": "python3"
  },
  "language_info": {
   "codemirror_mode": {
    "name": "ipython",
    "version": 3
   },
   "file_extension": ".py",
   "mimetype": "text/x-python",
   "name": "python",
   "nbconvert_exporter": "python",
   "pygments_lexer": "ipython3",
   "version": "3.8.6rc1"
  },
  "orig_nbformat": 4,
  "vscode": {
   "interpreter": {
    "hash": "aee8b7b246df8f9039afb4144a1f6fd8d2ca17a180786b69acc140d282b71a49"
   }
  }
 },
 "nbformat": 4,
 "nbformat_minor": 2
}
